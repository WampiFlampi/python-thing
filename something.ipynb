{
 "cells": [
  {
   "cell_type": "code",
   "execution_count": 1,
   "id": "a41ac7c5-e450-4c8f-83ea-3e9fb1c7326c",
   "metadata": {
    "jupyter": {
     "source_hidden": true
    }
   },
   "outputs": [],
   "source": [
    "#\n",
    "import requests\n",
    "from IPython.display import HTML\n",
    "\n",
    "def do_the_thing(i):\n",
    "    try: \n",
    "        link = requests.get('http://bit.ly/424bcSp').url\n",
    "        for _ in range(i):\n",
    "            display(Markdown(f'<video autoplay src=\"{link}\" width=\"640\" height=\"360\">animation</video>'))\n",
    "    except:\n",
    "        print('Failed')"
   ]
  },
  {
   "cell_type": "code",
   "execution_count": null,
   "id": "d5998e3c-617f-4ebe-895b-a8ef6b2248cf",
   "metadata": {},
   "outputs": [],
   "source": [
    "from IPython.display import Markdown, display\n",
    "\n",
    "def getInt():\n",
    "    try:\n",
    "       return int(input('Enter an integer: '))\n",
    "    except:\n",
    "        print('<Error, not an integer>')\n",
    "        return getInt()\n",
    "\n",
    "name = input('Enter your name: ')\n",
    "print('Hi, ' + name + '!\\n')\n",
    "\n",
    "i = (abs(getInt()) % 10)\n",
    "do_the_thing(i)\n"
   ]
  },
  {
   "cell_type": "code",
   "execution_count": null,
   "id": "b2a20213-e3d3-4e16-b344-fafaf0f8cf6c",
   "metadata": {},
   "outputs": [],
   "source": []
  }
 ],
 "metadata": {
  "kernelspec": {
   "display_name": "Python 3 (ipykernel)",
   "language": "python",
   "name": "python3"
  },
  "language_info": {
   "codemirror_mode": {
    "name": "ipython",
    "version": 3
   },
   "file_extension": ".py",
   "mimetype": "text/x-python",
   "name": "python",
   "nbconvert_exporter": "python",
   "pygments_lexer": "ipython3",
   "version": "3.11.5"
  }
 },
 "nbformat": 4,
 "nbformat_minor": 5
}
